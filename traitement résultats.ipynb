{
 "cells": [
  {
   "cell_type": "code",
   "execution_count": 1,
   "metadata": {
    "collapsed": true
   },
   "outputs": [],
   "source": [
    "import pandas as pd\n",
    "import json"
   ]
  },
  {
   "cell_type": "code",
   "execution_count": 2,
   "metadata": {
    "collapsed": true
   },
   "outputs": [],
   "source": [
    "df = pd.read_csv('data/resultats.csv')"
   ]
  },
  {
   "cell_type": "code",
   "execution_count": 3,
   "metadata": {
    "collapsed": true
   },
   "outputs": [],
   "source": [
    "df['departement'] = df['departement'].str.pad(2, fillchar='0')\n",
    "df['circo'] = df['circo'].map(str).str.pad(3,fillchar='0')\n",
    "df['code'] = df['departement'] + df['circo']\n",
    "\n",
    "df = df.set_index('code')"
   ]
  },
  {
   "cell_type": "code",
   "execution_count": 4,
   "metadata": {
    "collapsed": true
   },
   "outputs": [],
   "source": [
    "for c in df:\n",
    "    if any(c.startswith(pref) for pref in ['Prénom', 'N°Panneau', 'Sexe']):\n",
    "        del df[c]"
   ]
  },
  {
   "cell_type": "code",
   "execution_count": 5,
   "metadata": {
    "collapsed": true
   },
   "outputs": [],
   "source": [
    "noms = pd.concat([df[c] for c in df if c.startswith('Nom')], ignore_index=True).unique()"
   ]
  },
  {
   "cell_type": "code",
   "execution_count": 6,
   "metadata": {
    "collapsed": true
   },
   "outputs": [],
   "source": [
    "totaux = df[['departement_libelle', 'circo_libelle', 'inscrits', 'abstentions', 'votants', 'blancs', 'nuls', 'exprimes']].sort_index()"
   ]
  },
  {
   "cell_type": "code",
   "execution_count": 7,
   "metadata": {
    "collapsed": true
   },
   "outputs": [],
   "source": [
    "reste = df.iloc[:, 2+len(totaux.columns):]"
   ]
  },
  {
   "cell_type": "code",
   "execution_count": 8,
   "metadata": {
    "collapsed": true
   },
   "outputs": [],
   "source": [
    "res = []\n",
    "for i in range(len(reste.columns)//2):\n",
    "    colonnes = reste.iloc[:, 2*i:2*i+2]\n",
    "    colonnes.columns = ['nom', 'votes']\n",
    "    col = colonnes.reset_index().set_index(['code', 'nom'])['votes']\n",
    "    res.append(col)"
   ]
  },
  {
   "cell_type": "code",
   "execution_count": 9,
   "metadata": {
    "collapsed": true
   },
   "outputs": [],
   "source": [
    "votes = pd.concat(res).unstack().sort_index()"
   ]
  },
  {
   "cell_type": "code",
   "execution_count": 10,
   "metadata": {
    "collapsed": true
   },
   "outputs": [],
   "source": [
    "exprimes = votes.divide(totaux['exprimes'], axis=0)"
   ]
  },
  {
   "cell_type": "code",
   "execution_count": 44,
   "metadata": {},
   "outputs": [],
   "source": [
    "rang = votes.gt(votes['MÉLENCHON'], axis=0).sum(axis=1) + 1"
   ]
  },
  {
   "cell_type": "code",
   "execution_count": 46,
   "metadata": {
    "collapsed": true
   },
   "outputs": [],
   "source": [
    "qualifie = (votes['MÉLENCHON'] / totaux['inscrits']) >= 0.125"
   ]
  },
  {
   "cell_type": "code",
   "execution_count": 47,
   "metadata": {
    "collapsed": true
   },
   "outputs": [],
   "source": [
    "topology = json.load(open('data/circos_topo.json'))"
   ]
  },
  {
   "cell_type": "code",
   "execution_count": 48,
   "metadata": {
    "collapsed": true
   },
   "outputs": [],
   "source": [
    "for geometry in topology['objects']['circos']['geometries']:\n",
    "    circo = geometry['properties']['ID']\n",
    "    geometry['properties']['votes'] = exprimes.loc[circo].to_dict()\n",
    "    geometry['properties']['votes']['rang'] = int(rang.loc[circo])\n",
    "    geometry['properties']['votes']['qualifie'] = bool(qualifie.loc[circo])"
   ]
  },
  {
   "cell_type": "code",
   "execution_count": 49,
   "metadata": {},
   "outputs": [],
   "source": [
    "json.dump(topology, open('data/circos_exprimes.json', 'w'))"
   ]
  }
 ],
 "metadata": {
  "kernelspec": {
   "display_name": "Python 3",
   "language": "python",
   "name": "python3"
  },
  "language_info": {
   "codemirror_mode": {
    "name": "ipython",
    "version": 3
   },
   "file_extension": ".py",
   "mimetype": "text/x-python",
   "name": "python",
   "nbconvert_exporter": "python",
   "pygments_lexer": "ipython3",
   "version": "3.6.1"
  }
 },
 "nbformat": 4,
 "nbformat_minor": 1
}
