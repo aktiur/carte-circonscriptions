{
 "cells": [
  {
   "cell_type": "code",
   "execution_count": 2,
   "metadata": {
    "collapsed": true
   },
   "outputs": [],
   "source": [
    "import pandas as pd\n",
    "import json"
   ]
  },
  {
   "cell_type": "code",
   "execution_count": 23,
   "metadata": {
    "collapsed": true
   },
   "outputs": [],
   "source": [
    "pd.concat([\n",
    "    totaux[['departement_libelle', 'circo_libelle']],\n",
    "    votes[['MÉLENCHON', 'LE PEN']].rename(columns=lambda c: 'votes '+c),\n",
    "    exprimes[['MÉLENCHON', 'LE PEN']].rename(columns=lambda c: 'exprimés '+c)\n",
    "], axis=1).loc[le_pen].to_csv('contre_lepen.csv', sep=';', encoding='cp1252', decimal=',')"
   ]
  },
  {
   "cell_type": "code",
   "execution_count": 24,
   "metadata": {
    "collapsed": true
   },
   "outputs": [],
   "source": [
    "pd.concat([\n",
    "    totaux[['departement_libelle', 'circo_libelle']],\n",
    "    votes[['MÉLENCHON', 'MACRON']].rename(columns=lambda c: 'votes '+c),\n",
    "    exprimes[['MÉLENCHON', 'MACRON']].rename(columns=lambda c: 'exprimés '+c)\n",
    "], axis=1).loc[macron].to_csv('contre_macron.csv', sep=';', encoding='cp1252', decimal=',')"
   ]
  },
  {
   "cell_type": "code",
   "execution_count": 12,
   "metadata": {
    "collapsed": true
   },
   "outputs": [],
   "source": [
    "qualifie = (votes['MÉLENCHON'] / totaux['inscrits']) >= 0.125"
   ]
  },
  {
   "cell_type": "code",
   "execution_count": 20,
   "metadata": {
    "collapsed": true
   },
   "outputs": [],
   "source": [
    "force = pd.cut(exprimes['MÉLENCHON'], [.0, .1, .2, .3, 1], labels=['-10%', '10-20%', '20-30%', '+30%'])"
   ]
  },
  {
   "cell_type": "code",
   "execution_count": 35,
   "metadata": {
    "collapsed": true
   },
   "outputs": [],
   "source": [
    "pd.concat([exprimes[['MÉLENCHON']], totaux], axis=1).sort_values(['MÉLENCHON'])\\\n",
    ".to_csv('votes_melenchon.csv', sep=';', encoding='cp1252', decimal=',')"
   ]
  },
  {
   "cell_type": "code",
   "execution_count": 34,
   "metadata": {
    "collapsed": true
   },
   "outputs": [],
   "source": [
    "pd.concat([totaux[['departement_libelle', 'circo_libelle']], exprimes], axis=1).sort_values(['MÉLENCHON'])\\\n",
    ".to_csv('exprimes.csv', sep=';', encoding='cp1252', decimal=',')"
   ]
  },
  {
   "cell_type": "code",
   "execution_count": 37,
   "metadata": {
    "collapsed": true
   },
   "outputs": [],
   "source": [
    "pd.concat([totaux, votes], axis=1).sort_index().to_csv('votes_absolus.csv', sep=';', encoding='cp1252', decimal=',')"
   ]
  },
  {
   "cell_type": "code",
   "execution_count": 23,
   "metadata": {
    "collapsed": true
   },
   "outputs": [],
   "source": [
    "topology = json.load(open('data/circos_topo.json'))"
   ]
  },
  {
   "cell_type": "code",
   "execution_count": 24,
   "metadata": {
    "collapsed": true
   },
   "outputs": [],
   "source": [
    "for geometry in topology['objects']['circos']['geometries']:\n",
    "    circo = geometry['properties']['ID']\n",
    "    geometry['properties']['votes'] = exprimes.loc[circo].to_dict()\n",
    "    geometry['properties']['rang'] = int(rang.loc[circo])\n",
    "    geometry['properties']['qualifie'] = bool(qualifie.loc[circo])\n",
    "    geometry['properties']['force'] = str(force.loc[circo])"
   ]
  },
  {
   "cell_type": "code",
   "execution_count": 25,
   "metadata": {
    "collapsed": true
   },
   "outputs": [],
   "source": [
    "json.dump(topology, open('data/circos_exprimes.json', 'w'))"
   ]
  },
  {
   "cell_type": "code",
   "execution_count": 26,
   "metadata": {
    "collapsed": true
   },
   "outputs": [],
   "source": [
    "import csv"
   ]
  },
  {
   "cell_type": "code",
   "execution_count": 31,
   "metadata": {
    "collapsed": true
   },
   "outputs": [],
   "source": [
    "f = open('data/PR17_BVot_T1_FE.txt', 'r', encoding='latin1')"
   ]
  },
  {
   "cell_type": "code",
   "execution_count": 32,
   "metadata": {
    "collapsed": true
   },
   "outputs": [],
   "source": [
    "r = csv.reader(f, delimiter=';')"
   ]
  },
  {
   "cell_type": "code",
   "execution_count": 33,
   "metadata": {
    "collapsed": true
   },
   "outputs": [],
   "source": [
    "headers = next(r)"
   ]
  },
  {
   "cell_type": "code",
   "execution_count": 51,
   "metadata": {
    "collapsed": true
   },
   "outputs": [],
   "source": [
    "champs_candidats = headers[-7:]\n",
    "champs_globaux = headers[:-7]"
   ]
  },
  {
   "cell_type": "code",
   "execution_count": 44,
   "metadata": {
    "collapsed": true
   },
   "outputs": [],
   "source": [
    "ligne = next(r)"
   ]
  },
  {
   "cell_type": "code",
   "execution_count": 54,
   "metadata": {
    "collapsed": true
   },
   "outputs": [],
   "source": [
    "valeurs_candidats = ligne[len(champs_globaux):]"
   ]
  },
  {
   "cell_type": "code",
   "execution_count": 58,
   "metadata": {},
   "outputs": [
    {
     "data": {
      "text/plain": [
       "['DUPONT-AIGNAN',\n",
       " 'LE PEN',\n",
       " 'MACRON',\n",
       " 'HAMON',\n",
       " 'ARTHAUD',\n",
       " 'POUTOU',\n",
       " 'CHEMINADE',\n",
       " 'LASSALLE',\n",
       " 'MÉLENCHON',\n",
       " 'ASSELINEAU',\n",
       " 'FILLON']"
      ]
     },
     "execution_count": 58,
     "metadata": {},
     "output_type": "execute_result"
    }
   ],
   "source": [
    "ligne[len(champs_globaux)+2::7]"
   ]
  },
  {
   "cell_type": "code",
   "execution_count": 88,
   "metadata": {
    "collapsed": true
   },
   "outputs": [],
   "source": [
    "headers_correct = {\n",
    "    'Code du département': 'departement',\n",
    "    'Libellé du département': 'departement_libelle',\n",
    "    'Code de la circonscription': 'circo',\n",
    "    'Libellé de la circonscription': 'circo_libelle',\n",
    "    'Code de la commune': 'commune',\n",
    "    'Libellé de la commune': 'commune_libelle',\n",
    "    'Code du b.vote': 'bureau',\n",
    "    'Inscrits': 'inscrits',\n",
    "    'Abstentions': 'abstentions',\n",
    "    '% Abs/Ins': None,\n",
    "    'Votants': 'votants',\n",
    "    '% Vot/Ins': None,\n",
    "    'Blancs': 'blancs',\n",
    "    '% Blancs/Ins': None,\n",
    "    '% Blancs/Vot': None,\n",
    "    'Nuls': 'nuls',\n",
    "    '% Nuls/Ins': None,\n",
    "    '% Nuls/Vot': None,\n",
    "    'Exprimés': 'exprimes',\n",
    "    '% Exp/Ins': None,\n",
    "    '% Exp/Vot': None,\n",
    "}"
   ]
  },
  {
   "cell_type": "code",
   "execution_count": 123,
   "metadata": {
    "collapsed": true
   },
   "outputs": [],
   "source": [
    "with open('data/PR17_BVot_T1_FE.txt', 'r', encoding='latin1') as brut, open('output/2017_cleaned.csv', 'w') as cleaned:\n",
    "    r = csv.reader(brut, delimiter=';')\n",
    "    \n",
    "    headers = next(r)\n",
    "    \n",
    "    global_fields = headers[:-7]\n",
    "    \n",
    "    line = next(r)\n",
    "    candidats = line[len(global_fields)+2::7]\n",
    "    \n",
    "    fields = [headers_correct[field] for field in global_fields if headers_correct[field] is not None] + candidats\n",
    "    global_indices = [i for i, f in enumerate(global_fields) if headers_correct[f] is not None]\n",
    "    \n",
    "    f.seek(0)\n",
    "    next(r)\n",
    "    \n",
    "    w = csv.writer(cleaned)\n",
    "    \n",
    "    w.writerow(fields)\n",
    "    \n",
    "    for line in r:\n",
    "        noms = line[len(global_fields)+2::7]\n",
    "        scores = line[len(global_fields)+4::7]\n",
    "        \n",
    "        paired_scores = {candidat: score for candidat, score in zip(noms, scores)}\n",
    "        \n",
    "        w.writerow([line[i] for i in global_indices] + [paired_scores[candidat] for candidat in candidats])"
   ]
  },
  {
   "cell_type": "code",
   "execution_count": 4,
   "metadata": {},
   "outputs": [],
   "source": [
    "scores = pd.read_csv('data/2017_cleaned.csv', dtype={'departement': str, 'bureau': str, 'commune': str})"
   ]
  },
  {
   "cell_type": "code",
   "execution_count": 5,
   "metadata": {},
   "outputs": [
    {
     "data": {
      "text/html": [
       "<div>\n",
       "<table border=\"1\" class=\"dataframe\">\n",
       "  <thead>\n",
       "    <tr style=\"text-align: right;\">\n",
       "      <th></th>\n",
       "      <th>departement</th>\n",
       "      <th>departement_libelle</th>\n",
       "    </tr>\n",
       "  </thead>\n",
       "  <tbody>\n",
       "    <tr>\n",
       "      <th>0</th>\n",
       "      <td>01</td>\n",
       "      <td>Ain</td>\n",
       "    </tr>\n",
       "    <tr>\n",
       "      <th>587</th>\n",
       "      <td>02</td>\n",
       "      <td>Aisne</td>\n",
       "    </tr>\n",
       "    <tr>\n",
       "      <th>1566</th>\n",
       "      <td>03</td>\n",
       "      <td>Allier</td>\n",
       "    </tr>\n",
       "    <tr>\n",
       "      <th>2020</th>\n",
       "      <td>04</td>\n",
       "      <td>Alpes-de-Haute-Provence</td>\n",
       "    </tr>\n",
       "    <tr>\n",
       "      <th>2281</th>\n",
       "      <td>05</td>\n",
       "      <td>Hautes-Alpes</td>\n",
       "    </tr>\n",
       "    <tr>\n",
       "      <th>2492</th>\n",
       "      <td>06</td>\n",
       "      <td>Alpes-Maritimes</td>\n",
       "    </tr>\n",
       "    <tr>\n",
       "      <th>3464</th>\n",
       "      <td>07</td>\n",
       "      <td>Ardèche</td>\n",
       "    </tr>\n",
       "    <tr>\n",
       "      <th>3900</th>\n",
       "      <td>08</td>\n",
       "      <td>Ardennes</td>\n",
       "    </tr>\n",
       "    <tr>\n",
       "      <th>4462</th>\n",
       "      <td>09</td>\n",
       "      <td>Ariège</td>\n",
       "    </tr>\n",
       "    <tr>\n",
       "      <th>4845</th>\n",
       "      <td>10</td>\n",
       "      <td>Aube</td>\n",
       "    </tr>\n",
       "    <tr>\n",
       "      <th>5377</th>\n",
       "      <td>11</td>\n",
       "      <td>Aude</td>\n",
       "    </tr>\n",
       "    <tr>\n",
       "      <th>5956</th>\n",
       "      <td>12</td>\n",
       "      <td>Aveyron</td>\n",
       "    </tr>\n",
       "    <tr>\n",
       "      <th>6404</th>\n",
       "      <td>13</td>\n",
       "      <td>Bouches-du-Rhône</td>\n",
       "    </tr>\n",
       "    <tr>\n",
       "      <th>7762</th>\n",
       "      <td>14</td>\n",
       "      <td>Calvados</td>\n",
       "    </tr>\n",
       "    <tr>\n",
       "      <th>8707</th>\n",
       "      <td>15</td>\n",
       "      <td>Cantal</td>\n",
       "    </tr>\n",
       "    <tr>\n",
       "      <th>9003</th>\n",
       "      <td>16</td>\n",
       "      <td>Charente</td>\n",
       "    </tr>\n",
       "    <tr>\n",
       "      <th>9538</th>\n",
       "      <td>17</td>\n",
       "      <td>Charente-Maritime</td>\n",
       "    </tr>\n",
       "    <tr>\n",
       "      <th>10313</th>\n",
       "      <td>18</td>\n",
       "      <td>Cher</td>\n",
       "    </tr>\n",
       "    <tr>\n",
       "      <th>10752</th>\n",
       "      <td>19</td>\n",
       "      <td>Corrèze</td>\n",
       "    </tr>\n",
       "    <tr>\n",
       "      <th>11136</th>\n",
       "      <td>2A</td>\n",
       "      <td>Corse-du-Sud</td>\n",
       "    </tr>\n",
       "    <tr>\n",
       "      <th>11352</th>\n",
       "      <td>2B</td>\n",
       "      <td>Haute-Corse</td>\n",
       "    </tr>\n",
       "    <tr>\n",
       "      <th>11674</th>\n",
       "      <td>21</td>\n",
       "      <td>Côte-d'Or</td>\n",
       "    </tr>\n",
       "    <tr>\n",
       "      <th>12582</th>\n",
       "      <td>22</td>\n",
       "      <td>Côtes-d'Armor</td>\n",
       "    </tr>\n",
       "    <tr>\n",
       "      <th>13236</th>\n",
       "      <td>23</td>\n",
       "      <td>Creuse</td>\n",
       "    </tr>\n",
       "    <tr>\n",
       "      <th>13519</th>\n",
       "      <td>24</td>\n",
       "      <td>Dordogne</td>\n",
       "    </tr>\n",
       "    <tr>\n",
       "      <th>14212</th>\n",
       "      <td>25</td>\n",
       "      <td>Doubs</td>\n",
       "    </tr>\n",
       "    <tr>\n",
       "      <th>14977</th>\n",
       "      <td>26</td>\n",
       "      <td>Drôme</td>\n",
       "    </tr>\n",
       "    <tr>\n",
       "      <th>15570</th>\n",
       "      <td>27</td>\n",
       "      <td>Eure</td>\n",
       "    </tr>\n",
       "    <tr>\n",
       "      <th>16389</th>\n",
       "      <td>28</td>\n",
       "      <td>Eure-et-Loir</td>\n",
       "    </tr>\n",
       "    <tr>\n",
       "      <th>16952</th>\n",
       "      <td>29</td>\n",
       "      <td>Finistère</td>\n",
       "    </tr>\n",
       "    <tr>\n",
       "      <th>...</th>\n",
       "      <td>...</td>\n",
       "      <td>...</td>\n",
       "    </tr>\n",
       "    <tr>\n",
       "      <th>53683</th>\n",
       "      <td>77</td>\n",
       "      <td>Seine-et-Marne</td>\n",
       "    </tr>\n",
       "    <tr>\n",
       "      <th>54774</th>\n",
       "      <td>78</td>\n",
       "      <td>Yvelines</td>\n",
       "    </tr>\n",
       "    <tr>\n",
       "      <th>55757</th>\n",
       "      <td>79</td>\n",
       "      <td>Deux-Sèvres</td>\n",
       "    </tr>\n",
       "    <tr>\n",
       "      <th>56244</th>\n",
       "      <td>80</td>\n",
       "      <td>Somme</td>\n",
       "    </tr>\n",
       "    <tr>\n",
       "      <th>57235</th>\n",
       "      <td>81</td>\n",
       "      <td>Tarn</td>\n",
       "    </tr>\n",
       "    <tr>\n",
       "      <th>57724</th>\n",
       "      <td>82</td>\n",
       "      <td>Tarn-et-Garonne</td>\n",
       "    </tr>\n",
       "    <tr>\n",
       "      <th>58012</th>\n",
       "      <td>83</td>\n",
       "      <td>Var</td>\n",
       "    </tr>\n",
       "    <tr>\n",
       "      <th>58923</th>\n",
       "      <td>84</td>\n",
       "      <td>Vaucluse</td>\n",
       "    </tr>\n",
       "    <tr>\n",
       "      <th>59422</th>\n",
       "      <td>85</td>\n",
       "      <td>Vendée</td>\n",
       "    </tr>\n",
       "    <tr>\n",
       "      <th>60024</th>\n",
       "      <td>86</td>\n",
       "      <td>Vienne</td>\n",
       "    </tr>\n",
       "    <tr>\n",
       "      <th>60474</th>\n",
       "      <td>87</td>\n",
       "      <td>Haute-Vienne</td>\n",
       "    </tr>\n",
       "    <tr>\n",
       "      <th>60847</th>\n",
       "      <td>88</td>\n",
       "      <td>Vosges</td>\n",
       "    </tr>\n",
       "    <tr>\n",
       "      <th>61506</th>\n",
       "      <td>89</td>\n",
       "      <td>Yonne</td>\n",
       "    </tr>\n",
       "    <tr>\n",
       "      <th>62092</th>\n",
       "      <td>90</td>\n",
       "      <td>Territoire de Belfort</td>\n",
       "    </tr>\n",
       "    <tr>\n",
       "      <th>62241</th>\n",
       "      <td>91</td>\n",
       "      <td>Essonne</td>\n",
       "    </tr>\n",
       "    <tr>\n",
       "      <th>63120</th>\n",
       "      <td>92</td>\n",
       "      <td>Hauts-de-Seine</td>\n",
       "    </tr>\n",
       "    <tr>\n",
       "      <th>64134</th>\n",
       "      <td>93</td>\n",
       "      <td>Seine-Saint-Denis</td>\n",
       "    </tr>\n",
       "    <tr>\n",
       "      <th>64931</th>\n",
       "      <td>94</td>\n",
       "      <td>Val-de-Marne</td>\n",
       "    </tr>\n",
       "    <tr>\n",
       "      <th>65744</th>\n",
       "      <td>95</td>\n",
       "      <td>Val-d'Oise</td>\n",
       "    </tr>\n",
       "    <tr>\n",
       "      <th>66544</th>\n",
       "      <td>ZA</td>\n",
       "      <td>Guadeloupe</td>\n",
       "    </tr>\n",
       "    <tr>\n",
       "      <th>66958</th>\n",
       "      <td>ZB</td>\n",
       "      <td>Martinique</td>\n",
       "    </tr>\n",
       "    <tr>\n",
       "      <th>67287</th>\n",
       "      <td>ZC</td>\n",
       "      <td>Guyane</td>\n",
       "    </tr>\n",
       "    <tr>\n",
       "      <th>67402</th>\n",
       "      <td>ZD</td>\n",
       "      <td>La Réunion</td>\n",
       "    </tr>\n",
       "    <tr>\n",
       "      <th>68308</th>\n",
       "      <td>ZM</td>\n",
       "      <td>Mayotte</td>\n",
       "    </tr>\n",
       "    <tr>\n",
       "      <th>68484</th>\n",
       "      <td>ZN</td>\n",
       "      <td>Nouvelle-Calédonie</td>\n",
       "    </tr>\n",
       "    <tr>\n",
       "      <th>68754</th>\n",
       "      <td>ZP</td>\n",
       "      <td>Polynésie française</td>\n",
       "    </tr>\n",
       "    <tr>\n",
       "      <th>68990</th>\n",
       "      <td>ZS</td>\n",
       "      <td>Saint-Pierre-et-Miquelon</td>\n",
       "    </tr>\n",
       "    <tr>\n",
       "      <th>68994</th>\n",
       "      <td>ZW</td>\n",
       "      <td>Wallis et Futuna</td>\n",
       "    </tr>\n",
       "    <tr>\n",
       "      <th>68995</th>\n",
       "      <td>ZX</td>\n",
       "      <td>Saint-Martin/Saint-Barthélemy</td>\n",
       "    </tr>\n",
       "    <tr>\n",
       "      <th>69019</th>\n",
       "      <td>ZZ</td>\n",
       "      <td>Français établis hors de France</td>\n",
       "    </tr>\n",
       "  </tbody>\n",
       "</table>\n",
       "<p>107 rows × 2 columns</p>\n",
       "</div>"
      ],
      "text/plain": [
       "      departement              departement_libelle\n",
       "0              01                              Ain\n",
       "587            02                            Aisne\n",
       "1566           03                           Allier\n",
       "2020           04          Alpes-de-Haute-Provence\n",
       "2281           05                     Hautes-Alpes\n",
       "2492           06                  Alpes-Maritimes\n",
       "3464           07                          Ardèche\n",
       "3900           08                         Ardennes\n",
       "4462           09                           Ariège\n",
       "4845           10                             Aube\n",
       "5377           11                             Aude\n",
       "5956           12                          Aveyron\n",
       "6404           13                 Bouches-du-Rhône\n",
       "7762           14                         Calvados\n",
       "8707           15                           Cantal\n",
       "9003           16                         Charente\n",
       "9538           17                Charente-Maritime\n",
       "10313          18                             Cher\n",
       "10752          19                          Corrèze\n",
       "11136          2A                     Corse-du-Sud\n",
       "11352          2B                      Haute-Corse\n",
       "11674          21                        Côte-d'Or\n",
       "12582          22                    Côtes-d'Armor\n",
       "13236          23                           Creuse\n",
       "13519          24                         Dordogne\n",
       "14212          25                            Doubs\n",
       "14977          26                            Drôme\n",
       "15570          27                             Eure\n",
       "16389          28                     Eure-et-Loir\n",
       "16952          29                        Finistère\n",
       "...           ...                              ...\n",
       "53683          77                   Seine-et-Marne\n",
       "54774          78                         Yvelines\n",
       "55757          79                      Deux-Sèvres\n",
       "56244          80                            Somme\n",
       "57235          81                             Tarn\n",
       "57724          82                  Tarn-et-Garonne\n",
       "58012          83                              Var\n",
       "58923          84                         Vaucluse\n",
       "59422          85                           Vendée\n",
       "60024          86                           Vienne\n",
       "60474          87                     Haute-Vienne\n",
       "60847          88                           Vosges\n",
       "61506          89                            Yonne\n",
       "62092          90            Territoire de Belfort\n",
       "62241          91                          Essonne\n",
       "63120          92                   Hauts-de-Seine\n",
       "64134          93                Seine-Saint-Denis\n",
       "64931          94                     Val-de-Marne\n",
       "65744          95                       Val-d'Oise\n",
       "66544          ZA                       Guadeloupe\n",
       "66958          ZB                       Martinique\n",
       "67287          ZC                           Guyane\n",
       "67402          ZD                       La Réunion\n",
       "68308          ZM                          Mayotte\n",
       "68484          ZN               Nouvelle-Calédonie\n",
       "68754          ZP              Polynésie française\n",
       "68990          ZS         Saint-Pierre-et-Miquelon\n",
       "68994          ZW                 Wallis et Futuna\n",
       "68995          ZX    Saint-Martin/Saint-Barthélemy\n",
       "69019          ZZ  Français établis hors de France\n",
       "\n",
       "[107 rows x 2 columns]"
      ]
     },
     "execution_count": 5,
     "metadata": {},
     "output_type": "execute_result"
    }
   ],
   "source": [
    "scores[['departement', 'departement_libelle']].drop_duplicates()"
   ]
  },
  {
   "cell_type": "code",
   "execution_count": 125,
   "metadata": {
    "collapsed": true
   },
   "outputs": [],
   "source": [
    "scores['code'] = scores.departement + scores.circo.map(str).str.pad(3, fillchar='0')"
   ]
  },
  {
   "cell_type": "code",
   "execution_count": 126,
   "metadata": {
    "collapsed": true
   },
   "outputs": [],
   "source": [
    "aggregations = {\n",
    "    'departement': 'first',\n",
    "    'departement_libelle': 'first',\n",
    "    'circo': 'first',\n",
    "    'circo_libelle': 'first',\n",
    "    'inscrits': 'sum',\n",
    "    'abstentions': 'sum',\n",
    "    'votants': 'sum',\n",
    "    'blancs': 'sum',\n",
    "    'nuls': 'sum',\n",
    "    'exprimes': 'sum',\n",
    "    'DUPONT-AIGNAN': 'sum',\n",
    "    'LE PEN': 'sum',\n",
    "    'MACRON': 'sum',\n",
    "    'HAMON': 'sum',\n",
    "    'ARTHAUD': 'sum',\n",
    "    'POUTOU': 'sum',\n",
    "    'CHEMINADE': 'sum',\n",
    "    'LASSALLE': 'sum',\n",
    "    'MÉLENCHON': 'sum',\n",
    "    'ASSELINEAU': 'sum',\n",
    "    'FILLON': 'sum',\n",
    "}"
   ]
  },
  {
   "cell_type": "code",
   "execution_count": 127,
   "metadata": {
    "collapsed": true
   },
   "outputs": [],
   "source": [
    "scores.groupby(['code']).agg(aggregations).to_csv('output/2017_par_circo.csv')"
   ]
  },
  {
   "cell_type": "code",
   "execution_count": 6,
   "metadata": {
    "collapsed": true
   },
   "outputs": [],
   "source": [
    "geo = json.load(open('raw/circos.json'))"
   ]
  },
  {
   "cell_type": "code",
   "execution_count": 9,
   "metadata": {},
   "outputs": [],
   "source": [
    "departements = set(f['properties']['code_dpt'] for f in geo['features'])"
   ]
  },
  {
   "cell_type": "code",
   "execution_count": 10,
   "metadata": {},
   "outputs": [
    {
     "data": {
      "text/plain": [
       "{'01',\n",
       " '02',\n",
       " '03',\n",
       " '04',\n",
       " '05',\n",
       " '06',\n",
       " '07',\n",
       " '08',\n",
       " '09',\n",
       " '10',\n",
       " '11',\n",
       " '12',\n",
       " '13',\n",
       " '14',\n",
       " '15',\n",
       " '16',\n",
       " '17',\n",
       " '18',\n",
       " '19',\n",
       " '21',\n",
       " '22',\n",
       " '23',\n",
       " '24',\n",
       " '25',\n",
       " '26',\n",
       " '27',\n",
       " '28',\n",
       " '29',\n",
       " '2A',\n",
       " '2B',\n",
       " '30',\n",
       " '31',\n",
       " '32',\n",
       " '33',\n",
       " '34',\n",
       " '35',\n",
       " '36',\n",
       " '37',\n",
       " '38',\n",
       " '39',\n",
       " '40',\n",
       " '41',\n",
       " '42',\n",
       " '43',\n",
       " '44',\n",
       " '45',\n",
       " '46',\n",
       " '47',\n",
       " '48',\n",
       " '49',\n",
       " '50',\n",
       " '51',\n",
       " '52',\n",
       " '53',\n",
       " '54',\n",
       " '55',\n",
       " '56',\n",
       " '57',\n",
       " '58',\n",
       " '59',\n",
       " '60',\n",
       " '61',\n",
       " '62',\n",
       " '63',\n",
       " '64',\n",
       " '65',\n",
       " '66',\n",
       " '67',\n",
       " '68',\n",
       " '69',\n",
       " '70',\n",
       " '71',\n",
       " '72',\n",
       " '73',\n",
       " '74',\n",
       " '75',\n",
       " '76',\n",
       " '77',\n",
       " '78',\n",
       " '79',\n",
       " '80',\n",
       " '81',\n",
       " '82',\n",
       " '83',\n",
       " '84',\n",
       " '85',\n",
       " '86',\n",
       " '87',\n",
       " '88',\n",
       " '89',\n",
       " '90',\n",
       " '91',\n",
       " '92',\n",
       " '93',\n",
       " '94',\n",
       " '95',\n",
       " 'ZA',\n",
       " 'ZB',\n",
       " 'ZC',\n",
       " 'ZD',\n",
       " 'ZM'}"
      ]
     },
     "execution_count": 10,
     "metadata": {},
     "output_type": "execute_result"
    }
   ],
   "source": [
    "departements"
   ]
  }
 ],
 "metadata": {
  "kernelspec": {
   "display_name": "Python 3",
   "language": "python",
   "name": "python3"
  },
  "language_info": {
   "codemirror_mode": {
    "name": "ipython",
    "version": 3
   },
   "file_extension": ".py",
   "mimetype": "text/x-python",
   "name": "python",
   "nbconvert_exporter": "python",
   "pygments_lexer": "ipython3",
   "version": "3.6.1"
  }
 },
 "nbformat": 4,
 "nbformat_minor": 1
}
