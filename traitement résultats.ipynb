{
 "cells": [
  {
   "cell_type": "code",
   "execution_count": 72,
   "metadata": {
    "collapsed": true
   },
   "outputs": [],
   "source": [
    "import pandas as pd\n",
    "import json"
   ]
  },
  {
   "cell_type": "code",
   "execution_count": 88,
   "metadata": {
    "collapsed": true
   },
   "outputs": [],
   "source": [
    "df = pd.read_csv('data/resultats.csv')"
   ]
  },
  {
   "cell_type": "code",
   "execution_count": 100,
   "metadata": {},
   "outputs": [],
   "source": [
    "df['departement'] = df['departement'].str.pad(2, fillchar='0')\n",
    "df['circo'] = df['circo'].map(str).str.pad(3,fillchar='0')\n",
    "df['code'] = df['departement'] + df['circo']\n",
    "\n",
    "df = df.set_index('code')"
   ]
  },
  {
   "cell_type": "code",
   "execution_count": 102,
   "metadata": {
    "collapsed": true
   },
   "outputs": [],
   "source": [
    "for c in df:\n",
    "    if any(c.startswith(pref) for pref in ['Prénom', 'N°Panneau', 'Sexe']):\n",
    "        del df[c]"
   ]
  },
  {
   "cell_type": "code",
   "execution_count": 103,
   "metadata": {
    "collapsed": true
   },
   "outputs": [],
   "source": [
    "noms = pd.concat([df[c] for c in df if c.startswith('Nom')], ignore_index=True).unique()"
   ]
  },
  {
   "cell_type": "code",
   "execution_count": 104,
   "metadata": {},
   "outputs": [],
   "source": [
    "totaux = df[['departement_libelle', 'circo_libelle', 'inscrits', 'abstentions', 'votants', 'blancs', 'nuls', 'exprimes']].sort_index()"
   ]
  },
  {
   "cell_type": "code",
   "execution_count": 117,
   "metadata": {},
   "outputs": [],
   "source": [
    "reste = df.iloc[:, 2+len(totaux.columns):]"
   ]
  },
  {
   "cell_type": "code",
   "execution_count": 118,
   "metadata": {},
   "outputs": [],
   "source": [
    "res = []\n",
    "for i in range(len(reste.columns)//2):\n",
    "    colonnes = reste.iloc[:, 2*i:2*i+2]\n",
    "    colonnes.columns = ['nom', 'votes']\n",
    "    col = colonnes.reset_index().set_index(['code', 'nom'])['votes']\n",
    "    res.append(col)"
   ]
  },
  {
   "cell_type": "code",
   "execution_count": 119,
   "metadata": {},
   "outputs": [],
   "source": [
    "votes = pd.concat(res).unstack().sort_index()"
   ]
  },
  {
   "cell_type": "code",
   "execution_count": 138,
   "metadata": {},
   "outputs": [],
   "source": [
    "exprimes = votes.divide(totaux['exprimes'], axis=0)"
   ]
  },
  {
   "cell_type": "code",
   "execution_count": 139,
   "metadata": {
    "collapsed": true
   },
   "outputs": [],
   "source": [
    "topology = json.load(open('data/circos_topo.json'))"
   ]
  },
  {
   "cell_type": "code",
   "execution_count": 142,
   "metadata": {
    "collapsed": true
   },
   "outputs": [],
   "source": [
    "for geometry in topology['objects']['circos']['geometries']:\n",
    "    circo = geometry['properties']['ID']\n",
    "    geometry['properties']['votes'] = exprimes.loc[circo].to_dict()"
   ]
  },
  {
   "cell_type": "code",
   "execution_count": 143,
   "metadata": {},
   "outputs": [],
   "source": [
    "json.dump(topology, open('circos_exprimes.json', 'w'))"
   ]
  }
 ],
 "metadata": {
  "kernelspec": {
   "display_name": "Python 3",
   "language": "python",
   "name": "python3"
  },
  "language_info": {
   "codemirror_mode": {
    "name": "ipython",
    "version": 3
   },
   "file_extension": ".py",
   "mimetype": "text/x-python",
   "name": "python",
   "nbconvert_exporter": "python",
   "pygments_lexer": "ipython3",
   "version": "3.6.1"
  }
 },
 "nbformat": 4,
 "nbformat_minor": 2
}
